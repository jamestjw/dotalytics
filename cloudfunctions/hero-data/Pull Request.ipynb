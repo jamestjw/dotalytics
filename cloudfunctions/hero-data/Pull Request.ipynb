{
 "cells": [
  {
   "cell_type": "code",
   "execution_count": 7,
   "metadata": {},
   "outputs": [],
   "source": [
    "import requests\n",
    "import json\n",
    "import pdb"
   ]
  },
  {
   "cell_type": "code",
   "execution_count": 8,
   "metadata": {},
   "outputs": [],
   "source": [
    "api = \"https://api.opendota.com/api/heroStats\"\n",
    "r = requests.get(api)"
   ]
  },
  {
   "cell_type": "code",
   "execution_count": 9,
   "metadata": {},
   "outputs": [],
   "source": [
    "a = json.loads(r.content)\n",
    "# https://api.opendota.com/api/matches/{match_id}"
   ]
  },
  {
   "cell_type": "code",
   "execution_count": 10,
   "metadata": {},
   "outputs": [],
   "source": [
    "api_path = 'https://api.opendota.com/api/proMatches'\n",
    "last_match = 9999999999\n",
    "res = requests.get(api_path, params={'less_than_match_id':int(last_match)})\n",
    "data = json.loads(res.text)"
   ]
  },
  {
   "cell_type": "code",
   "execution_count": 12,
   "metadata": {},
   "outputs": [],
   "source": [
    "# data[1]"
   ]
  },
  {
   "cell_type": "code",
   "execution_count": 13,
   "metadata": {},
   "outputs": [],
   "source": [
    "\n",
    "# api_path = 'https://api.opendota.com/api/proMatches'\n",
    "api_path = 'https://api.opendota.com/api/matches/5080869300'\n",
    "res = requests.get(api_path, params={'match_id':5080869300})\n"
   ]
  },
  {
   "cell_type": "code",
   "execution_count": 47,
   "metadata": {},
   "outputs": [],
   "source": [
    "def generator(data):\n",
    "    for d in data:\n",
    "        match_id = int(d['match_id'])\n",
    "        api_path = 'https://api.opendota.com/api/matches/{}'.format(match_id)\n",
    "        res = requests.get(api_path)\n",
    "        print(d)\n",
    "        data2 = json.loads(res.content)\n",
    "        print(d['radiant_team_id'] == data2['radiant_team_id'])\n",
    "        print(d['dire_team_id']    == data2['dire_team_id'])\n",
    "\n",
    "        yield data2\n",
    "#         print(res)\n",
    "#         yield res"
   ]
  },
  {
   "cell_type": "code",
   "execution_count": 48,
   "metadata": {},
   "outputs": [],
   "source": [
    "# myd['dire_team_id']"
   ]
  },
  {
   "cell_type": "code",
   "execution_count": 49,
   "metadata": {},
   "outputs": [],
   "source": [
    "g =  generator(data)"
   ]
  },
  {
   "cell_type": "code",
   "execution_count": 50,
   "metadata": {},
   "outputs": [
    {
     "name": "stdout",
     "output_type": "stream",
     "text": [
      "{'match_id': 5080950049, 'duration': 2119, 'start_time': 1571758291, 'radiant_team_id': 2108395, 'radiant_name': 'TNC Predator', 'dire_team_id': 2163, 'dire_name': 'Team Liquid', 'leagueid': 11275, 'league_name': 'ESL One Hamburg 2019 powered by Intel', 'series_id': 379391, 'series_type': 1, 'radiant_score': 32, 'dire_score': 16, 'radiant_win': True}\n",
      "True\n",
      "True\n"
     ]
    }
   ],
   "source": [
    "a = next(iter(g))"
   ]
  },
  {
   "cell_type": "code",
   "execution_count": 44,
   "metadata": {},
   "outputs": [
    {
     "data": {
      "text/plain": [
       "6209143"
      ]
     },
     "execution_count": 44,
     "metadata": {},
     "output_type": "execute_result"
    }
   ],
   "source": [
    "a['dire_team_id']"
   ]
  },
  {
   "cell_type": "code",
   "execution_count": 46,
   "metadata": {},
   "outputs": [
    {
     "name": "stdout",
     "output_type": "stream",
     "text": [
      "7101094\n"
     ]
    }
   ],
   "source": [
    "print(a['radiant_team_id'])"
   ]
  },
  {
   "cell_type": "code",
   "execution_count": 23,
   "metadata": {},
   "outputs": [],
   "source": [
    "match_id = int(data[0]['match_id'])\n",
    "api_path = \"https://api.opendota.com/api/matches/{}\".format(match_id)"
   ]
  },
  {
   "cell_type": "code",
   "execution_count": 21,
   "metadata": {},
   "outputs": [
    {
     "data": {
      "text/plain": [
       "'this is a cat'"
      ]
     },
     "execution_count": 21,
     "metadata": {},
     "output_type": "execute_result"
    }
   ],
   "source": [
    "mystring = 'this is a '.format('a')\n",
    "mystring"
   ]
  },
  {
   "cell_type": "code",
   "execution_count": null,
   "metadata": {},
   "outputs": [],
   "source": []
  }
 ],
 "metadata": {
  "kernelspec": {
   "display_name": "Python 3",
   "language": "python",
   "name": "python3"
  },
  "language_info": {
   "codemirror_mode": {
    "name": "ipython",
    "version": 3
   },
   "file_extension": ".py",
   "mimetype": "text/x-python",
   "name": "python",
   "nbconvert_exporter": "python",
   "pygments_lexer": "ipython3",
   "version": "3.7.3"
  }
 },
 "nbformat": 4,
 "nbformat_minor": 4
}
